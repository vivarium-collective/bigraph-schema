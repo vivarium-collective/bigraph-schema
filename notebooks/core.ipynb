{
 "cells": [
  {
   "cell_type": "markdown",
   "id": "d42edcd7-e61f-4c30-94ee-a01f79988c7c",
   "metadata": {},
   "source": [
    "# bigraph-schema\n",
    "\n",
    "`bigraph-schema` is a library to define schemas for and operate on bigraphical states, for use in composite biological simulations. "
   ]
  },
  {
   "cell_type": "markdown",
   "id": "b106e3a4-ddf1-485f-81e4-318018193660",
   "metadata": {},
   "source": [
    "## what is a bigraph?\n",
    "\n",
    "A bigraph has three components - a set of nodes, a \"place graph\" over those nodes (a tree), and a \"link graph\" involving the same set of nodes (a hypergraph). \n",
    "\n",
    "<center><img src=\"images/place-link.png\" width=\"60%\"/></center>\n"
   ]
  },
  {
   "cell_type": "markdown",
   "id": "83bc1ebc-fe31-4ed6-b964-a754655c8ef4",
   "metadata": {},
   "source": [
    "## reactions\n",
    "\n",
    "In addition to this structure, bigraphs are also capable of \"motion\" in the form of \"reactions\" - a pair of bigraphs used as a match and substitution respectively (known as the \"redex\" and the \"reactum\"). This means bigraphs update their structure and relationships over the course of a simulation. \n",
    "\n",
    "Given a reaction that looks like this (the *redex* is on the left, *reactum* on the right):\n",
    "\n",
    "<center><img src=\"images/redex-reactum.png\" width=\"60%\"/></center>\n",
    "\n",
    "and some bigraphical state that matches the redex of the reaction:\n",
    "\n",
    "<center><img src=\"images/reaction-before.png\" width=\"40%\"/></center>\n",
    "\n",
    "We can apply the reaction to the bigraph to achieve the resulting bigraph:\n",
    "\n",
    "<center><img src=\"images/reaction-after.png\" width=\"40%\"/></center>"
   ]
  },
  {
   "cell_type": "markdown",
   "id": "9dbb1b69-da69-4049-88bf-fadff21fa7ef",
   "metadata": {},
   "source": [
    "## types\n",
    "\n",
    "In addition to these core bigraphical properties, the states `bigraph-schema` works with are typed in a way that allows us to perform type-specific operations on values contained in the nodes or subtrees of the bigraph. Beyond providing these typed methods, the types also guide the composition of the larger systems out of smaller ones - edges are defined by the types of their inputs and outputs, so as we link our state together we can verify all of these connections are valid and make sense. \n",
    "\n",
    "The way to declare the structure of types is by defining a \"schema\" - a nested state which describes the types of all the nodes embedded in the place graph. We will show how to define and use schemas throughout this notebook. "
   ]
  },
  {
   "cell_type": "markdown",
   "id": "e799ceff-ee1f-4416-936c-f16a0d18da43",
   "metadata": {},
   "source": [
    "## edges\n",
    "\n",
    "An \"edge\" in `bigraph-schema` refers to a hyperedge which is defined by the types of its inputs and outputs - these two schemas together are the edge's \"interface\". Where the nesting of the schema reflects the \"place\" graph component of the bigraph, the edges encode the \"link\" graph, and these links themselves can be updated during the simulation. When using `bigraph-schema` in biological and general simulation applications, the hyperedges become \"processes\" which generate updates informed by the input states they are linked to, and these updates get applied to the output states the edge is linked to. "
   ]
  },
  {
   "cell_type": "markdown",
   "id": "7b02fbfc-a8e7-4fb1-8ff4-2ef9405fc842",
   "metadata": {},
   "source": [
    "## states and schemas\n",
    "\n",
    "There is a distinction between a \"schema\", which encodes a description of states, and a \"state\", which holds the actual values which may or may not match any given schema. In `bigraph-schema` we need both of these things to perform any given operation - that said there are also methods to \"infer\" a given schema out of minimal type information provided in the state. In general there is a one to many relationship between a schema and states matching that schema - this gives us motivation to \"register\" schemas we use over and over again as new types, which will be described as well. "
   ]
  },
  {
   "cell_type": "markdown",
   "id": "f987ce1a-3cd3-4bc6-aea1-f7a046b25cbc",
   "metadata": {},
   "source": [
    "## core\n",
    "\n",
    "Let's start by importing the `TypeSystem` and creating an instance of it (codename `core` since we're going to use it a lot):"
   ]
  },
  {
   "cell_type": "code",
   "execution_count": 1,
   "id": "3d33f18d-3afb-4fbf-8bfe-75964a0b1841",
   "metadata": {},
   "outputs": [],
   "source": [
    "from bigraph_schema import TypeSystem\n",
    "core = TypeSystem()"
   ]
  },
  {
   "cell_type": "markdown",
   "id": "c481e570-ed32-406a-823e-6735e429473d",
   "metadata": {},
   "source": [
    "`core` uses a schema you provide to perform various operations on a given state or states. Let's see what types we have available:"
   ]
  },
  {
   "cell_type": "code",
   "execution_count": 2,
   "id": "a25c1f5b-13ed-4a1e-a1ab-bfcb8b850021",
   "metadata": {},
   "outputs": [
    {
     "data": {
      "text/plain": [
       "dict_keys(['any', 'tuple', 'union', 'boolean', 'number', 'integer', 'float', 'string', 'list', 'tree', 'map', 'array', 'maybe', 'path', 'wires', 'schema', 'edge', 'length', 'time', 'current', 'luminosity', 'mass', 'substance', 'temperature', '', 'length/time', 'length^2*mass/time', 'current*time', 'length^2*mass/temperature*time^2', 'length/time^2', 'mass/length*time^2', 'current*time^2/length^2*mass', 'length^2*mass/current^2*time^3', '/substance', 'length^2*mass/substance*temperature*time^2', 'current*time/substance', 'current^2*time^3/length^2*mass', 'length^2*mass/current*time^2', 'mass/temperature^4*time^3', 'length^4*mass/time^3', 'length*temperature', '/temperature*time', 'length^3/mass*time^2', '/length', 'length*mass/current^2*time^2', 'current^2*time^4/length^3*mass', 'length^3*mass/current^2*time^4', 'length^2', '/time', 'length^3', 'length^3/time', 'length*mass/time^2', 'length^2*mass/time^2', 'length^2*mass/time^3', 'mass/length^3', 'mass/length*time', 'length^2/time', 'length*time/mass', 'substance/length^3', 'substance/time', 'length^2/time^2', 'current*time/mass', 'mass/time^2', 'luminosity/length^2', 'mass/time^3', 'length^2*mass/current*time^3', 'length*mass/current*time^3', 'current^2*time^4/length^2*mass', 'length^2*mass/current^2*time^2', 'mass/current*time^2', 'current*length*time', 'current*length^2*time', 'current*length^2', 'printing_unit', 'printing_unit/length', '/printing_unit', 'mass/length', 'length/mass', 'length^1_5*mass^0_5/time', 'length^0_5*mass^0_5/time', 'length^1_5*mass^0_5/time^2', 'mass^0_5/length^0_5*time', 'time/length', 'length^0_5*mass^0_5', 'mass^0_5/length^1_5', 'time^2/length'])"
      ]
     },
     "execution_count": 2,
     "metadata": {},
     "output_type": "execute_result"
    }
   ],
   "source": [
    "core.types().keys()"
   ]
  },
  {
   "cell_type": "markdown",
   "id": "d000d4c6-d859-427e-bc98-cce92b3ac091",
   "metadata": {},
   "source": [
    "That's a lot of types! Looking through the list we see that most of them have to do with units - we'll get to unit types later, but for now we can see they are defined in terms of general notions (length or mass) rather than specific units (kilometer or gram) because we care about what is able to connect to what: for instance, all length units are compatible through scaling, that's the point of units!"
   ]
  },
  {
   "cell_type": "markdown",
   "id": "8f0b0764-16b5-4be9-96e5-7da46614ddef",
   "metadata": {},
   "source": [
    "## basic types\n",
    "\n",
    "Some of the basic types you probably already understand are:\n",
    "* `float`: the computational equivalent of a real number - attempting to emulate a continuous number line with notable limitations.\n",
    "* `integer`: positive and negative whole numbers.\n",
    "* `boolean`: a two-valued type, here known as \"true\" and \"false\".\n",
    "* `string`: a type for text, by default standard unicode. "
   ]
  },
  {
   "cell_type": "markdown",
   "id": "f0e97f19-49d8-4b61-a69d-f89dd0e536df",
   "metadata": {},
   "source": [
    "Let's see what one of these types looks like - we'll take a simple one as an example, how about \"float\"? :"
   ]
  },
  {
   "cell_type": "code",
   "execution_count": 3,
   "id": "c0caa21b-1506-44d9-8eaa-13dae215a107",
   "metadata": {},
   "outputs": [
    {
     "data": {
      "text/plain": [
       "{'_type': 'float',\n",
       " '_check': 'check_float',\n",
       " '_apply': 'accumulate',\n",
       " '_serialize': 'to_string',\n",
       " '_description': '64-bit floating point precision number',\n",
       " '_default': '0.0',\n",
       " '_deserialize': 'deserialize_float',\n",
       " '_divide': 'divide_float',\n",
       " '_inherit': ['number']}"
      ]
     },
     "execution_count": 3,
     "metadata": {},
     "output_type": "execute_result"
    }
   ],
   "source": [
    "core.access('float')"
   ]
  },
  {
   "cell_type": "markdown",
   "id": "22790b2f-4978-479c-8060-fd9ebe73ff31",
   "metadata": {},
   "source": [
    "We see here that types are defined through a series of keys, with any type specific information signified by key starting with an `_` (underscore). Schemas and states in `bigraph-schema` claim the namespace of keys beginning with an underscore and reserves it for type information. A type may contain keys without underscores, but this signifies a subschema living under that key - in the end all the \"leaves\" of a schema tree resolve into type keys (keys with an underscore)."
   ]
  },
  {
   "cell_type": "code",
   "execution_count": 4,
   "id": "71304c9e-8915-4122-9c5e-cd287851e385",
   "metadata": {},
   "outputs": [
    {
     "data": {
      "text/plain": [
       "{'a': {'_type': 'float',\n",
       "  '_check': 'check_float',\n",
       "  '_apply': 'accumulate',\n",
       "  '_serialize': 'to_string',\n",
       "  '_description': '64-bit floating point precision number',\n",
       "  '_default': '0.0',\n",
       "  '_deserialize': 'deserialize_float',\n",
       "  '_divide': 'divide_float',\n",
       "  '_inherit': ['number']},\n",
       " 'b': {'_type': 'integer',\n",
       "  '_check': 'check_integer',\n",
       "  '_apply': 'accumulate',\n",
       "  '_serialize': 'to_string',\n",
       "  '_description': '64-bit integer',\n",
       "  '_default': '0',\n",
       "  '_deserialize': 'deserialize_integer',\n",
       "  '_inherit': ['number']}}"
      ]
     },
     "execution_count": 4,
     "metadata": {},
     "output_type": "execute_result"
    }
   ],
   "source": [
    "# a nested type with keys 'a' and 'b'\n",
    "core.access({\n",
    "    'a': 'float', \n",
    "    'b': 'integer'})"
   ]
  },
  {
   "cell_type": "markdown",
   "id": "a72474bc-086a-4167-8fb4-53e6e0e4001e",
   "metadata": {},
   "source": [
    "What are all these keys? \n",
    "* `_type`: This key is just the name of the type itself\n",
    "* `_check`: This is the name of a function that the float type uses to verify some state is actually a float. Many of the methods in `core` rely on type-specific functions like this to operate, and we encode them as references to the function rather than a function itself to meet the requirement that our type descriptions are simply data and can be ie communicated across the network. This does rely on the definitions existing somewhere, and for the behavior of these functions to be sufficiently defined by tests for each method if the simulation is going to be replicated in another environment. We defer these considerations while providing now for their eventual resolution by insisting all values are serializable. This also allows for a future where the functions defining these methods are themselves somehow \"universally\" serializable, and instead of references we just store the serialized definition as the value. \n",
    "* `_apply`: The apply method takes two states which match the schema and returns some kind of \"merge\" of those states - it is up to each type method to determine what this means. Here we are using `accumulate` which just calls `+` on the two values. This works great if the values can be added. If not some other more sophisticated method would be required.\n",
    "* `_serialize`, `_deserialize`: These are inverses of each other and are used to take complex values and turn them into something that can be communicated across the wire. One of the principles of `bigraph-schema` is that in order to operate in any distributed or multi-language environment, any state can be encoded as a string for the purposes of communication with other nodes in a large scale simulation. This principle is realized through a universal means of serialization and deserialization - all states are encodable and transmittable.\n",
    "* `_description`: This allows anyone defining a type to explain what their type is all about.\n",
    "* `_default`: If a value of this type is ever needed and no state information is provided, we deserialize the type's default value.\n",
    "* `_inherit`: You can use existing types as a starting point to define new types. This relationship also helps us when merging schemas so that we can always select the most specific definition of each component of the resulting schema. "
   ]
  },
  {
   "cell_type": "markdown",
   "id": "33e53562-0e65-43f7-a134-f41ca49857ac",
   "metadata": {},
   "source": [
    "## check\n",
    "\n",
    "Let's take a look at how to use a schema now that we have one. First we can `check` different values to see if they match our schema:"
   ]
  },
  {
   "cell_type": "code",
   "execution_count": 5,
   "id": "723e4d35-251f-45a0-bd13-79577a05faaf",
   "metadata": {},
   "outputs": [
    {
     "data": {
      "text/plain": [
       "True"
      ]
     },
     "execution_count": 5,
     "metadata": {},
     "output_type": "execute_result"
    }
   ],
   "source": [
    "core.check('float', 1.5)"
   ]
  },
  {
   "cell_type": "code",
   "execution_count": 6,
   "id": "2d66ca35-a17a-435e-a1c9-2bab5affe8d5",
   "metadata": {},
   "outputs": [
    {
     "data": {
      "text/plain": [
       "False"
      ]
     },
     "execution_count": 6,
     "metadata": {},
     "output_type": "execute_result"
    }
   ],
   "source": [
    "core.check('float', 'not a float')"
   ]
  },
  {
   "cell_type": "code",
   "execution_count": 7,
   "id": "7dc63b69-c922-4077-b290-bdcdf674997b",
   "metadata": {},
   "outputs": [
    {
     "data": {
      "text/plain": [
       "False"
      ]
     },
     "execution_count": 7,
     "metadata": {},
     "output_type": "execute_result"
    }
   ],
   "source": [
    "core.check('integer', 1.5)"
   ]
  },
  {
   "cell_type": "code",
   "execution_count": 8,
   "id": "b02092aa-389c-4c07-a322-1c012944188f",
   "metadata": {},
   "outputs": [
    {
     "data": {
      "text/plain": [
       "True"
      ]
     },
     "execution_count": 8,
     "metadata": {},
     "output_type": "execute_result"
    }
   ],
   "source": [
    "core.check('integer', 5)"
   ]
  },
  {
   "cell_type": "markdown",
   "id": "40f19d79-6054-4624-bc8a-7e5165d22c61",
   "metadata": {},
   "source": [
    "Let's do a few more but with a nested type.... we made one above (a/b keys) but don't want to have to retype it every time we want to use it. We can register a new type and then define schemas according to that:"
   ]
  },
  {
   "cell_type": "code",
   "execution_count": 9,
   "id": "ce87189a-a630-4cda-b9a9-f3eea5665bc7",
   "metadata": {},
   "outputs": [
    {
     "data": {
      "text/plain": [
       "{'a': {'_type': 'float',\n",
       "  '_check': 'check_float',\n",
       "  '_apply': 'accumulate',\n",
       "  '_serialize': 'to_string',\n",
       "  '_description': '64-bit floating point precision number',\n",
       "  '_default': '0.0',\n",
       "  '_deserialize': 'deserialize_float',\n",
       "  '_divide': 'divide_float',\n",
       "  '_inherit': ['number']},\n",
       " 'b': {'_type': 'integer',\n",
       "  '_check': 'check_integer',\n",
       "  '_apply': 'accumulate',\n",
       "  '_serialize': 'to_string',\n",
       "  '_description': '64-bit integer',\n",
       "  '_default': '0',\n",
       "  '_deserialize': 'deserialize_integer',\n",
       "  '_inherit': ['number']},\n",
       " '_type': 'a-b'}"
      ]
     },
     "execution_count": 9,
     "metadata": {},
     "output_type": "execute_result"
    }
   ],
   "source": [
    "# the keys 'a' and 'b' are part of the type\n",
    "core.register(\n",
    "    'a-b', {\n",
    "        'a': 'float', \n",
    "        'b': 'integer'})\n",
    "\n",
    "# now it behaves like any other type\n",
    "core.access('a-b')"
   ]
  },
  {
   "cell_type": "markdown",
   "id": "051c3e56-93d8-4daf-b6eb-9a50900d7ba4",
   "metadata": {},
   "source": [
    "See how we still have the `_type` key on each leaf, but also a new `_type` key at the top level called `a-b`. This is how you can form nested types. "
   ]
  },
  {
   "cell_type": "markdown",
   "id": "a194e6a4-d528-4bd7-8f2d-18421082568d",
   "metadata": {},
   "source": [
    "Now we can call `check` with our newly registered type:"
   ]
  },
  {
   "cell_type": "code",
   "execution_count": 10,
   "id": "a8098d90-5736-485c-8e34-3b807619d822",
   "metadata": {},
   "outputs": [
    {
     "data": {
      "text/plain": [
       "False"
      ]
     },
     "execution_count": 10,
     "metadata": {},
     "output_type": "execute_result"
    }
   ],
   "source": [
    "# not nested\n",
    "core.check('a-b', 5)"
   ]
  },
  {
   "cell_type": "code",
   "execution_count": 11,
   "id": "8468e14d-fd5b-4bd9-aba6-975c070a0802",
   "metadata": {},
   "outputs": [
    {
     "data": {
      "text/plain": [
       "False"
      ]
     },
     "execution_count": 11,
     "metadata": {},
     "output_type": "execute_result"
    }
   ],
   "source": [
    "# nested but missing 'a' and 'b' keys\n",
    "core.check('a-b', {'c': 11})"
   ]
  },
  {
   "cell_type": "code",
   "execution_count": 12,
   "id": "9865f102-34c7-4957-b41f-d982d3050e30",
   "metadata": {},
   "outputs": [
    {
     "data": {
      "text/plain": [
       "False"
      ]
     },
     "execution_count": 12,
     "metadata": {},
     "output_type": "execute_result"
    }
   ],
   "source": [
    "# only one key, and wrong type anyway\n",
    "core.check('a-b', {'a': 'not a float'})"
   ]
  },
  {
   "cell_type": "code",
   "execution_count": 13,
   "id": "4ef3a4eb-37ab-439c-a906-e9debc88b6ad",
   "metadata": {},
   "outputs": [
    {
     "data": {
      "text/plain": [
       "False"
      ]
     },
     "execution_count": 13,
     "metadata": {},
     "output_type": "execute_result"
    }
   ],
   "source": [
    "# right type, still missing the 'b' key\n",
    "core.check('a-b', {'a': 11.11})"
   ]
  },
  {
   "cell_type": "code",
   "execution_count": 14,
   "id": "aa1b204c-cf22-40f5-a1f8-76a60975ad92",
   "metadata": {},
   "outputs": [
    {
     "data": {
      "text/plain": [
       "False"
      ]
     },
     "execution_count": 14,
     "metadata": {},
     "output_type": "execute_result"
    }
   ],
   "source": [
    "# all the keys now, but 'b' is supposed to be an integer\n",
    "core.check('a-b', {'a': 11.11, 'b': 55.55})"
   ]
  },
  {
   "cell_type": "code",
   "execution_count": 15,
   "id": "fc572ef5-9667-45f7-bf8c-c8d04ebe3fa3",
   "metadata": {},
   "outputs": [
    {
     "data": {
      "text/plain": [
       "True"
      ]
     },
     "execution_count": 15,
     "metadata": {},
     "output_type": "execute_result"
    }
   ],
   "source": [
    "# here we go\n",
    "core.check('a-b', {'a': 11.11, 'b': 55})"
   ]
  },
  {
   "cell_type": "code",
   "execution_count": 16,
   "id": "80d242bb-e710-40c6-8347-59898a2babe0",
   "metadata": {},
   "outputs": [
    {
     "data": {
      "text/plain": [
       "True"
      ]
     },
     "execution_count": 16,
     "metadata": {},
     "output_type": "execute_result"
    }
   ],
   "source": [
    "# notably we can have more keys, as long as the ones in our schema match\n",
    "core.check('a-b', {'a': 11.11, 'b': 55, 'c': 'this is okay'})"
   ]
  },
  {
   "cell_type": "markdown",
   "id": "104fbdbd-95bd-4fc0-81d3-4b0d90991dc1",
   "metadata": {},
   "source": [
    "## other methods \n",
    "\n",
    "Okay, so now that we can check a state matches our schemas, what else can we do with them? There are a number of methods, here are a few:\n",
    "* `core.default(schema)`: generate the default value of a given schema.\n",
    "* `core.fill(schema, state)`: take an incomplete state and fill it with whatever is missing relative to the schema.\n",
    "* `core.complete(schema, state)`: given any schema fragment and state fragment, return as much of the state and schema as we are able to infer (kind of a bidirectional `fill`).\n",
    "* `core.de/serialize(schema, state)`: serialize a state according to the given schema so that it can later be recovered by deserialize.\n",
    "* `core.slice(schema, state, path)`: given a path into a state, slice into the state according to the schema.\n",
    "* `core.equivalent(schema, left, right)`: returns `True` if both left and right are equivalent states according to the given schema.\n",
    "* `core.apply(schema, state, update)`: given an existing state and an update that match a schema, return a state with that update applied according to the type system.\n",
    "* `core.view_edge(schema, state, path)`: transform the state into the form expected by an edge (residing at the given path) according to its current inputs state.\n",
    "* `core.project_edge(schema, state, path, view)`: transform a view in the form of an edge's outputs schema into states aligned with the edge's outputs state.\n",
    "* `core.match(schema, state, pattern)`: find instances of a pattern inside of the state.\n",
    "* `core.react(schema, state, reaction)`: apply a bigraphical reaction (redex/reactum) to a given state.\n",
    "* `core.fold(schema, state, method, values)`: fold a method over the state according to the schema, parameterized by a set of values.\n",
    "* `core.inherits_from(schema, descendant, ancestor)`: returns `True` if you can trace a path of inheritance from descendant schema to ancestor schema.\n",
    "* `core.resolve_schemas(schema, update)`: merges two schemas and returns the schema which has the most specific type of the two at each point in the schema.\n",
    "* `core.import_types(package)`: given a package containing a bundle of related types, register them all and make them available to ongoing operations. "
   ]
  },
  {
   "cell_type": "markdown",
   "id": "399bb2d1-d667-45bb-aded-7ac194edad7c",
   "metadata": {},
   "source": [
    "This is a brief outline of these methods, let's go through a selection of them in more detail. But first, let's take make sure we understand type parameters. "
   ]
  },
  {
   "cell_type": "markdown",
   "id": "7fe1d902-3c69-42af-b1ff-7bc7cf135121",
   "metadata": {},
   "source": [
    "## type parameters\n",
    "\n",
    "Basic types like `float` and `string` are atomic - they don't break down any further. The system allows for types with type parameters as well, which means the type itself is not complete until the parameter is specified, making it a complete type:\n",
    "* `list[element]`: The element can be any other schema and defines the schema for each element in the list.\n",
    "* `map[value]`: A map is a flat key/value store with the keys as strings and the value parameterized by whatever schema is in `value`.\n",
    "* `tree[leaf]`: Tree is the recursive form of `map` whose values can themselves be trees or instances of the `leaf` type.\n",
    "* `tuple[0,1,...]`: A tuple type has a specific number of elements and type for each element. \n",
    "* `array[tuple(integer,...),data]`: The array type can have arbitrary dimensions which are represented by a tuple of integers.\n",
    "* `maybe[value]`: A maybe type can be the schema of its value or also be empty. If a type is not wrapped in `maybe` the system demands it has a value of the given schema at all times.\n",
    "* `union[0,1,...]`: A union type is a collection of types the value could be. This works by checking each type one at a time and picking the first one that matches, so it matters the order you define the union to be.\n",
    "\n",
    "How do these types work under the hood? Let's take a look at `list`, with a type parameter of `boolean`:"
   ]
  },
  {
   "cell_type": "code",
   "execution_count": 17,
   "id": "19fab013-4954-4ab1-bc3a-a9b977d61cf1",
   "metadata": {},
   "outputs": [
    {
     "data": {
      "text/plain": [
       "{'_type': 'list',\n",
       " '_default': [],\n",
       " '_check': 'check_list',\n",
       " '_slice': 'slice_list',\n",
       " '_apply': 'apply_list',\n",
       " '_serialize': 'serialize_list',\n",
       " '_deserialize': 'deserialize_list',\n",
       " '_fold': 'fold_list',\n",
       " '_divide': 'divide_list',\n",
       " '_type_parameters': ['element'],\n",
       " '_description': 'general list type (or sublists)',\n",
       " '_element': {'_type': 'boolean',\n",
       "  '_default': False,\n",
       "  '_check': 'check_boolean',\n",
       "  '_apply': 'apply_boolean',\n",
       "  '_serialize': 'serialize_boolean',\n",
       "  '_deserialize': 'deserialize_boolean'}}"
      ]
     },
     "execution_count": 17,
     "metadata": {},
     "output_type": "execute_result"
    }
   ],
   "source": [
    "core.access('list[boolean]')"
   ]
  },
  {
   "cell_type": "markdown",
   "id": "4f13700b-f7c9-4974-93f5-fa23b365f57a",
   "metadata": {},
   "source": [
    "One thing we notice right away is that there's a lot of keys in here we didn't see in float: `_slice`, `_fold`, `_divide`, and also `_type_parameters` and `_element`, though maybe you can already tell what those are for. The first three are for additional methods the `list` type supports, while `_type_parameters` describes the kind of type parameters the type could have and the order they will appear in, where the values in the `_type_parameters` list indicate which additional keys will describe the actual type of those type parameters (in this case the `element` parameter, stored in the `_element` key). The value of the `_element` key in turn is the schema for `boolean`, exactly what we would need to know if we want to operate on each element in the list. If it had been a `list[float]` we had accessed, this would be the schema for float instead. "
   ]
  },
  {
   "cell_type": "markdown",
   "id": "01be4b45-6dc9-4de4-b1dc-8db972786c49",
   "metadata": {},
   "source": [
    "## default\n",
    "\n",
    "Get the default value of a given schema.... let's take a look at a few:"
   ]
  },
  {
   "cell_type": "code",
   "execution_count": 18,
   "id": "4e8dcbed-1dc1-447a-9e54-6730d2e55b28",
   "metadata": {},
   "outputs": [
    {
     "data": {
      "text/plain": [
       "0.0"
      ]
     },
     "execution_count": 18,
     "metadata": {},
     "output_type": "execute_result"
    }
   ],
   "source": [
    "core.default('float')"
   ]
  },
  {
   "cell_type": "code",
   "execution_count": 19,
   "id": "445c24dd-9840-432d-a77e-5827e77b68c1",
   "metadata": {},
   "outputs": [
    {
     "data": {
      "text/plain": [
       "''"
      ]
     },
     "execution_count": 19,
     "metadata": {},
     "output_type": "execute_result"
    }
   ],
   "source": [
    "core.default('string')"
   ]
  },
  {
   "cell_type": "code",
   "execution_count": 20,
   "id": "065c4043-004b-4696-8738-8289f553b788",
   "metadata": {},
   "outputs": [
    {
     "data": {
      "text/plain": [
       "{'a': 0.0, 'b': 0}"
      ]
     },
     "execution_count": 20,
     "metadata": {},
     "output_type": "execute_result"
    }
   ],
   "source": [
    "core.default('a-b')"
   ]
  },
  {
   "cell_type": "markdown",
   "id": "42da9f40-7f03-40f3-835a-6cfa947de525",
   "metadata": {},
   "source": [
    "## fill\n",
    "\n",
    "`fill` is kind of like `default` except it uses as much of a given state as it is able to:"
   ]
  },
  {
   "cell_type": "code",
   "execution_count": 21,
   "id": "cb4aabb7-d4ff-4a35-bbd4-f79ba8d3e763",
   "metadata": {},
   "outputs": [
    {
     "data": {
      "text/plain": [
       "{'a': 11.11, 'b': 0}"
      ]
     },
     "execution_count": 21,
     "metadata": {},
     "output_type": "execute_result"
    }
   ],
   "source": [
    "core.fill('a-b', {'a': 11.11})"
   ]
  },
  {
   "cell_type": "markdown",
   "id": "67dc4cb5-9c0d-45ca-b6b3-1a0af8e9bd44",
   "metadata": {},
   "source": [
    "This is useful to take partial states and fill them in with a complete schema to initialize a simulation, for instance. "
   ]
  },
  {
   "cell_type": "markdown",
   "id": "55797d93-07ad-4235-9e82-261a766f1353",
   "metadata": {},
   "source": [
    "## paths and slice\n",
    "\n",
    "One of the benefits of the \"place\" graph is that we can work with addresses (or \"paths\") into the tree to find or mark specific nodes for further computation. In order to traverse the tree to a given path you can use `core.slice()`:"
   ]
  },
  {
   "cell_type": "code",
   "execution_count": 22,
   "id": "b85bcdd3-6a10-4ed3-a954-9c616d3d1f45",
   "metadata": {},
   "outputs": [
    {
     "data": {
      "text/plain": [
       "5"
      ]
     },
     "execution_count": 22,
     "metadata": {},
     "output_type": "execute_result"
    }
   ],
   "source": [
    "directory = {\n",
    "    'root': {\n",
    "        'bin': {\n",
    "            'run'},\n",
    "        'home': {\n",
    "            'you': {\n",
    "                'data': 5}}}}\n",
    "\n",
    "# navigate through the tree to find whatever lives at the given path\n",
    "data_schema, data = core.slice(\n",
    "    'tree[integer]', \n",
    "    directory, \n",
    "    ['root', 'home', 'you', 'data'])\n",
    "\n",
    "data"
   ]
  },
  {
   "cell_type": "markdown",
   "id": "e6c580fd-163f-466c-9e26-091e17fc2604",
   "metadata": {},
   "source": [
    "Here we see that slice also returns the schema it finds at the node the path points to. This can be used for further core operations local to that node. \n",
    "\n",
    "`path` is also a type:"
   ]
  },
  {
   "cell_type": "code",
   "execution_count": 23,
   "id": "1ee2b430-477d-4d55-b4d7-8d29d302487f",
   "metadata": {},
   "outputs": [
    {
     "data": {
      "text/plain": [
       "{'_type': 'path',\n",
       " '_default': [],\n",
       " '_check': 'check_list',\n",
       " '_slice': 'slice_list',\n",
       " '_apply': 'apply_path',\n",
       " '_serialize': 'serialize_list',\n",
       " '_deserialize': 'deserialize_list',\n",
       " '_fold': 'fold_list',\n",
       " '_divide': 'divide_list',\n",
       " '_type_parameters': ['element'],\n",
       " '_description': 'general list type (or sublists)',\n",
       " '_element': {'_type': 'string',\n",
       "  '_default': '',\n",
       "  '_check': 'check_string',\n",
       "  '_apply': 'replace',\n",
       "  '_serialize': 'serialize_string',\n",
       "  '_deserialize': 'deserialize_string',\n",
       "  '_description': '64-bit integer'},\n",
       " '_inherit': ['list[string]']}"
      ]
     },
     "execution_count": 23,
     "metadata": {},
     "output_type": "execute_result"
    }
   ],
   "source": [
    "core.access('path')"
   ]
  },
  {
   "cell_type": "markdown",
   "id": "91196745-732a-4ab0-a5ff-8c7e57f08210",
   "metadata": {},
   "source": [
    "We see it inherits from `list[string]` - it receives all the methods from list and has it's `_element` pre-filled with the schema for `string`. This means we can use it for any other core operations:"
   ]
  },
  {
   "cell_type": "code",
   "execution_count": 24,
   "id": "cb29529d-2045-4c05-b8ad-5161548010d6",
   "metadata": {},
   "outputs": [
    {
     "data": {
      "text/plain": [
       "False"
      ]
     },
     "execution_count": 24,
     "metadata": {},
     "output_type": "execute_result"
    }
   ],
   "source": [
    "core.check('path', 5)"
   ]
  },
  {
   "cell_type": "code",
   "execution_count": 25,
   "id": "c76ba6de-d63c-4976-891c-79e88ea6a0f4",
   "metadata": {},
   "outputs": [
    {
     "data": {
      "text/plain": [
       "[]"
      ]
     },
     "execution_count": 25,
     "metadata": {},
     "output_type": "execute_result"
    }
   ],
   "source": [
    "core.default('path')"
   ]
  },
  {
   "cell_type": "code",
   "execution_count": 26,
   "id": "bbbf39c0-5dd8-4f96-8a56-fbfb2aac7a18",
   "metadata": {},
   "outputs": [
    {
     "data": {
      "text/plain": [
       "True"
      ]
     },
     "execution_count": 26,
     "metadata": {},
     "output_type": "execute_result"
    }
   ],
   "source": [
    "core.check('tree[path]', {'a': {'b': ['a', 'x']}, 'x': {'y': ['b']}})"
   ]
  },
  {
   "cell_type": "code",
   "execution_count": 27,
   "id": "7c02539a-3a91-41e0-a881-348b0c733044",
   "metadata": {},
   "outputs": [
    {
     "data": {
      "text/plain": [
       "{'a': {'b': ['a', 'x']}, 'x': {'y': ['b']}, 'z': 0.0}"
      ]
     },
     "execution_count": 27,
     "metadata": {},
     "output_type": "execute_result"
    }
   ],
   "source": [
    "core.fill({'a': 'tree[path]', 'z': 'float'}, {'a': {'b': ['a', 'x']}, 'x': {'y': ['b']}})"
   ]
  },
  {
   "cell_type": "markdown",
   "id": "1d749210-d345-4239-a957-e8a9825d7161",
   "metadata": {},
   "source": [
    "## edges\n",
    "\n",
    "There is a special type in `bigraph-schema` called an `edge` which represents the hyperedges from the \"link\" graph in bigraph theory. Each edge is defined by its \"interface\" - the schema for its inputs and outputs. Once the interface is defined, it can be wired, or \"linked\" into the graph by providing a set of paths. \n",
    "\n",
    "Let's make an edge schema to use as an example for various things:"
   ]
  },
  {
   "cell_type": "code",
   "execution_count": 28,
   "id": "c176d455-6040-446c-b0ee-5bce851337ca",
   "metadata": {},
   "outputs": [],
   "source": [
    "edge_schema = {\n",
    "    '_type': 'edge',\n",
    "    '_inputs': {\n",
    "        'concentration': 'float',\n",
    "        'field': 'map[boolean]'},\n",
    "    '_outputs': {\n",
    "        'target': 'boolean',\n",
    "        'total': 'integer',\n",
    "        'delta': 'float'}}"
   ]
  },
  {
   "cell_type": "markdown",
   "id": "b2c77b64-beff-42ed-b04e-04edc89ee217",
   "metadata": {},
   "source": [
    "Great, let's see what it looks like when we access this.... in general the access will unfold the type to its maximal form, recursively looking up each type definition and substituting it in. That's why the output looks so verbose:"
   ]
  },
  {
   "cell_type": "code",
   "execution_count": 29,
   "id": "1bd6147e-8ea3-4bdc-8090-d6c9a4b09d61",
   "metadata": {},
   "outputs": [
    {
     "data": {
      "text/plain": [
       "{'_type': 'edge',\n",
       " '_inputs': {'concentration': 'float', 'field': 'map[boolean]'},\n",
       " '_outputs': {'target': 'boolean', 'total': 'integer', 'delta': 'float'},\n",
       " '_default': {'inputs': {}, 'outputs': {}},\n",
       " '_apply': 'apply_edge',\n",
       " '_serialize': 'serialize_edge',\n",
       " '_deserialize': 'deserialize_edge',\n",
       " '_check': 'check_edge',\n",
       " '_type_parameters': ['inputs', 'outputs'],\n",
       " '_description': 'hyperedges in the bigraph, with inputs and outputs as type parameters',\n",
       " 'inputs': {'_type': 'wires',\n",
       "  '_default': {},\n",
       "  '_check': 'check_tree',\n",
       "  '_slice': 'slice_tree',\n",
       "  '_apply': 'apply_tree',\n",
       "  '_serialize': 'serialize_tree',\n",
       "  '_deserialize': 'deserialize_tree',\n",
       "  '_fold': 'fold_tree',\n",
       "  '_divide': 'divide_tree',\n",
       "  '_type_parameters': ['leaf'],\n",
       "  '_description': 'mapping from str to some type in a potentially nested form',\n",
       "  '_leaf': {'_type': 'path',\n",
       "   '_default': [],\n",
       "   '_check': 'check_list',\n",
       "   '_slice': 'slice_list',\n",
       "   '_apply': 'apply_path',\n",
       "   '_serialize': 'serialize_list',\n",
       "   '_deserialize': 'deserialize_list',\n",
       "   '_fold': 'fold_list',\n",
       "   '_divide': 'divide_list',\n",
       "   '_type_parameters': ['element'],\n",
       "   '_description': 'general list type (or sublists)',\n",
       "   '_element': {'_type': 'string',\n",
       "    '_default': '',\n",
       "    '_check': 'check_string',\n",
       "    '_apply': 'replace',\n",
       "    '_serialize': 'serialize_string',\n",
       "    '_deserialize': 'deserialize_string',\n",
       "    '_description': '64-bit integer'},\n",
       "   '_inherit': ['list[string]']},\n",
       "  '_inherit': ['tree[path]']},\n",
       " 'outputs': {'_type': 'wires',\n",
       "  '_default': {},\n",
       "  '_check': 'check_tree',\n",
       "  '_slice': 'slice_tree',\n",
       "  '_apply': 'apply_tree',\n",
       "  '_serialize': 'serialize_tree',\n",
       "  '_deserialize': 'deserialize_tree',\n",
       "  '_fold': 'fold_tree',\n",
       "  '_divide': 'divide_tree',\n",
       "  '_type_parameters': ['leaf'],\n",
       "  '_description': 'mapping from str to some type in a potentially nested form',\n",
       "  '_leaf': {'_type': 'path',\n",
       "   '_default': [],\n",
       "   '_check': 'check_list',\n",
       "   '_slice': 'slice_list',\n",
       "   '_apply': 'apply_path',\n",
       "   '_serialize': 'serialize_list',\n",
       "   '_deserialize': 'deserialize_list',\n",
       "   '_fold': 'fold_list',\n",
       "   '_divide': 'divide_list',\n",
       "   '_type_parameters': ['element'],\n",
       "   '_description': 'general list type (or sublists)',\n",
       "   '_element': {'_type': 'string',\n",
       "    '_default': '',\n",
       "    '_check': 'check_string',\n",
       "    '_apply': 'replace',\n",
       "    '_serialize': 'serialize_string',\n",
       "    '_deserialize': 'deserialize_string',\n",
       "    '_description': '64-bit integer'},\n",
       "   '_inherit': ['list[string]']},\n",
       "  '_inherit': ['tree[path]']}}"
      ]
     },
     "execution_count": 29,
     "metadata": {},
     "output_type": "execute_result"
    }
   ],
   "source": [
    "core.access(edge_schema)"
   ]
  },
  {
   "cell_type": "markdown",
   "id": "910d5912-22ca-453a-a46f-913f70662436",
   "metadata": {},
   "source": [
    "One thing we can see about an edge is that it has both `inputs` and `outputs` keys, and `_inputs` and `_outputs` (with underscores) as well. What is going on here? \n",
    "\n",
    "One clue is that the `_type_parameters` list for the `_edge` type is `['inputs', 'outputs']`, which means `edge` is a type with two type parameters, `_inputs` and `_outputs`. This explains the underscore keys, they are the actual schemas for these type parameters, defining what type of edge this is. \n",
    "\n",
    "The other keys are `inputs` and `outputs` states and have their own subschema, which match the names of the type parameters by design but ultimately only by convention. The subschemas for these states are of type `wires`, which itself inherits from `tree[path]`. Wires are how we link together the \"ports\" of each edge (its inputs and outputs schemas) with actual places in the tree matching those types. \n",
    "\n",
    "An example will be helpful, and we can introduce another core method, `complete()`, which is like a bidirectional `fill` that is aware of edges and how type constraints propagate through wires. Here is an example edge state we can use:"
   ]
  },
  {
   "cell_type": "code",
   "execution_count": 30,
   "id": "839a285e-ae1f-4663-aef3-2789bb57f98f",
   "metadata": {},
   "outputs": [],
   "source": [
    "edge_state = {\n",
    "    'inputs': {\n",
    "        'concentration': ['..', 'molecules', 'glucose'],\n",
    "        'field': ['..', 'states']},\n",
    "    'outputs': {\n",
    "        'target': ['..', 'states', 'X'],\n",
    "        'total': ['..', 'emitter', 'total molecules'],\n",
    "        'delta': ['..', 'molecules', 'glucose']}}"
   ]
  },
  {
   "cell_type": "markdown",
   "id": "2bf7ed56-c466-47de-b825-ae800c875b8d",
   "metadata": {},
   "source": [
    "The form of the keys here is the same as the schema, an `inputs` and `outputs` key with subkeys, but the values are different. Here all the types have been replaced by paths. These are the places in the tree where we will \"link\" this edge in according to the inputs and outputs schemas and paths."
   ]
  },
  {
   "cell_type": "markdown",
   "id": "be70a23b-3a40-44e5-bf45-c7457aa6b625",
   "metadata": {},
   "source": [
    "## complete\n",
    "\n",
    "Type constraints can come from many places. We can put them directly in the schema and in that way enforce what kind of states are allowed. We can also supply type hints in the form of `_type` and associated type parameter keys in the state itself to generate the right schema that fits the state. Type constraints can also flow from edges whose wires tell us that something that matches its interface must live wherever that path is pointing. To call upon all these kinds of type inference we can appeal to `core.complete()`, which takes all of this into account:"
   ]
  },
  {
   "cell_type": "code",
   "execution_count": 31,
   "id": "6d8ea9a3-fb8f-4290-8a73-2a01e7784ae2",
   "metadata": {},
   "outputs": [
    {
     "ename": "Exception",
     "evalue": "trying to travel above the top of the tree: ['..', 'molecules']",
     "output_type": "error",
     "traceback": [
      "\u001b[0;31m---------------------------------------------------------------------------\u001b[0m",
      "\u001b[0;31mException\u001b[0m                                 Traceback (most recent call last)",
      "Cell \u001b[0;32mIn[31], line 1\u001b[0m\n\u001b[0;32m----> 1\u001b[0m full_schema, full_state \u001b[38;5;241m=\u001b[39m \u001b[43mcore\u001b[49m\u001b[38;5;241;43m.\u001b[39;49m\u001b[43mcomplete\u001b[49m\u001b[43m(\u001b[49m\n\u001b[1;32m      2\u001b[0m \u001b[43m    \u001b[49m\u001b[43m{\u001b[49m\u001b[38;5;124;43m'\u001b[39;49m\u001b[38;5;124;43medge\u001b[39;49m\u001b[38;5;124;43m'\u001b[39;49m\u001b[43m:\u001b[49m\u001b[43m \u001b[49m\u001b[43medge_schema\u001b[49m\u001b[43m}\u001b[49m\u001b[43m,\u001b[49m\n\u001b[1;32m      3\u001b[0m \u001b[43m    \u001b[49m\u001b[43m{\u001b[49m\u001b[38;5;124;43m'\u001b[39;49m\u001b[38;5;124;43medge\u001b[39;49m\u001b[38;5;124;43m'\u001b[39;49m\u001b[43m:\u001b[49m\u001b[43m \u001b[49m\u001b[43medge_state\u001b[49m\u001b[43m}\u001b[49m\u001b[43m)\u001b[49m\n",
      "File \u001b[0;32m~/code/bigraph-schema/bigraph_schema/type_system.py:1353\u001b[0m, in \u001b[0;36mTypeSystem.complete\u001b[0;34m(self, initial_schema, initial_state)\u001b[0m\n\u001b[1;32m   1347\u001b[0m state \u001b[38;5;241m=\u001b[39m \u001b[38;5;28mself\u001b[39m\u001b[38;5;241m.\u001b[39mhydrate(\n\u001b[1;32m   1348\u001b[0m     full_schema,\n\u001b[1;32m   1349\u001b[0m     initial_state)\n\u001b[1;32m   1351\u001b[0m \u001b[38;5;66;03m# fill in the parts of the composition schema\u001b[39;00m\n\u001b[1;32m   1352\u001b[0m \u001b[38;5;66;03m# determined by the state\u001b[39;00m\n\u001b[0;32m-> 1353\u001b[0m schema, state \u001b[38;5;241m=\u001b[39m \u001b[38;5;28;43mself\u001b[39;49m\u001b[38;5;241;43m.\u001b[39;49m\u001b[43minfer_schema\u001b[49m\u001b[43m(\u001b[49m\n\u001b[1;32m   1354\u001b[0m \u001b[43m    \u001b[49m\u001b[43mfull_schema\u001b[49m\u001b[43m,\u001b[49m\n\u001b[1;32m   1355\u001b[0m \u001b[43m    \u001b[49m\u001b[43mstate\u001b[49m\u001b[43m)\u001b[49m\n\u001b[1;32m   1357\u001b[0m final_state \u001b[38;5;241m=\u001b[39m \u001b[38;5;28mself\u001b[39m\u001b[38;5;241m.\u001b[39mfill(schema, state)\n\u001b[1;32m   1359\u001b[0m \u001b[38;5;66;03m# TODO: add flag to types.access(copy=True)\u001b[39;00m\n",
      "File \u001b[0;32m~/code/bigraph-schema/bigraph_schema/type_system.py:1279\u001b[0m, in \u001b[0;36mTypeSystem.infer_schema\u001b[0;34m(self, schema, state, top_state, path)\u001b[0m\n\u001b[1;32m   1276\u001b[0m             inner_path \u001b[38;5;241m=\u001b[39m path \u001b[38;5;241m+\u001b[39m (key,)\n\u001b[1;32m   1277\u001b[0m             \u001b[38;5;66;03m# if get_path(schema, inner_path) is None or get_path(state, inner_path) is None:\u001b[39;00m\n\u001b[0;32m-> 1279\u001b[0m             schema, top_state \u001b[38;5;241m=\u001b[39m \u001b[38;5;28;43mself\u001b[39;49m\u001b[38;5;241;43m.\u001b[39;49m\u001b[43minfer_schema\u001b[49m\u001b[43m(\u001b[49m\n\u001b[1;32m   1280\u001b[0m \u001b[43m                \u001b[49m\u001b[43mschema\u001b[49m\u001b[43m,\u001b[49m\n\u001b[1;32m   1281\u001b[0m \u001b[43m                \u001b[49m\u001b[43mvalue\u001b[49m\u001b[43m,\u001b[49m\n\u001b[1;32m   1282\u001b[0m \u001b[43m                \u001b[49m\u001b[43mtop_state\u001b[49m\u001b[38;5;241;43m=\u001b[39;49m\u001b[43mtop_state\u001b[49m\u001b[43m,\u001b[49m\n\u001b[1;32m   1283\u001b[0m \u001b[43m                \u001b[49m\u001b[43mpath\u001b[49m\u001b[38;5;241;43m=\u001b[39;49m\u001b[43minner_path\u001b[49m\u001b[43m)\u001b[49m\n\u001b[1;32m   1285\u001b[0m \u001b[38;5;28;01melif\u001b[39;00m \u001b[38;5;28misinstance\u001b[39m(state, \u001b[38;5;28mstr\u001b[39m):\n\u001b[1;32m   1286\u001b[0m     \u001b[38;5;28;01mpass\u001b[39;00m\n",
      "File \u001b[0;32m~/code/bigraph-schema/bigraph_schema/type_system.py:1263\u001b[0m, in \u001b[0;36mTypeSystem.infer_schema\u001b[0;34m(self, schema, state, top_state, path)\u001b[0m\n\u001b[1;32m   1258\u001b[0m \u001b[38;5;28;01melif\u001b[39;00m \u001b[38;5;124m'\u001b[39m\u001b[38;5;124m_type\u001b[39m\u001b[38;5;124m'\u001b[39m \u001b[38;5;129;01min\u001b[39;00m inner_schema:\n\u001b[1;32m   1259\u001b[0m     hydrated_state \u001b[38;5;241m=\u001b[39m \u001b[38;5;28mself\u001b[39m\u001b[38;5;241m.\u001b[39mdeserialize(\n\u001b[1;32m   1260\u001b[0m         inner_schema,\n\u001b[1;32m   1261\u001b[0m         state)\n\u001b[0;32m-> 1263\u001b[0m     schema \u001b[38;5;241m=\u001b[39m \u001b[38;5;28;43mself\u001b[39;49m\u001b[38;5;241;43m.\u001b[39;49m\u001b[43minfer_edge\u001b[49m\u001b[43m(\u001b[49m\n\u001b[1;32m   1264\u001b[0m \u001b[43m        \u001b[49m\u001b[43mschema\u001b[49m\u001b[43m,\u001b[49m\n\u001b[1;32m   1265\u001b[0m \u001b[43m        \u001b[49m\u001b[43mhydrated_state\u001b[49m\u001b[43m,\u001b[49m\n\u001b[1;32m   1266\u001b[0m \u001b[43m        \u001b[49m\u001b[43mtop_state\u001b[49m\u001b[43m,\u001b[49m\n\u001b[1;32m   1267\u001b[0m \u001b[43m        \u001b[49m\u001b[43mpath\u001b[49m\u001b[43m)\u001b[49m\n\u001b[1;32m   1269\u001b[0m     top_state \u001b[38;5;241m=\u001b[39m set_path(\n\u001b[1;32m   1270\u001b[0m         top_state,\n\u001b[1;32m   1271\u001b[0m         path,\n\u001b[1;32m   1272\u001b[0m         state)\n\u001b[1;32m   1274\u001b[0m \u001b[38;5;28;01melse\u001b[39;00m:\n",
      "File \u001b[0;32m~/code/bigraph-schema/bigraph_schema/type_system.py:1187\u001b[0m, in \u001b[0;36mTypeSystem.infer_edge\u001b[0;34m(self, schema, state, top_state, path)\u001b[0m\n\u001b[1;32m   1182\u001b[0m     state_schema[\u001b[38;5;124m'\u001b[39m\u001b[38;5;124m_inputs\u001b[39m\u001b[38;5;124m'\u001b[39m] \u001b[38;5;241m=\u001b[39m state\u001b[38;5;241m.\u001b[39mget(\n\u001b[1;32m   1183\u001b[0m         \u001b[38;5;124m'\u001b[39m\u001b[38;5;124m_inputs\u001b[39m\u001b[38;5;124m'\u001b[39m,\n\u001b[1;32m   1184\u001b[0m         \u001b[38;5;124m'\u001b[39m\u001b[38;5;124many\u001b[39m\u001b[38;5;124m'\u001b[39m)\n\u001b[1;32m   1186\u001b[0m \u001b[38;5;28;01mif\u001b[39;00m inputs:\n\u001b[0;32m-> 1187\u001b[0m     schema \u001b[38;5;241m=\u001b[39m \u001b[38;5;28;43mself\u001b[39;49m\u001b[38;5;241;43m.\u001b[39;49m\u001b[43minfer_wires\u001b[49m\u001b[43m(\u001b[49m\n\u001b[1;32m   1188\u001b[0m \u001b[43m        \u001b[49m\u001b[43mstate_schema\u001b[49m\u001b[43m[\u001b[49m\u001b[38;5;124;43m'\u001b[39;49m\u001b[38;5;124;43m_inputs\u001b[39;49m\u001b[38;5;124;43m'\u001b[39;49m\u001b[43m]\u001b[49m\u001b[43m,\u001b[49m\n\u001b[1;32m   1189\u001b[0m \u001b[43m        \u001b[49m\u001b[43mstate\u001b[49m\u001b[43m,\u001b[49m\n\u001b[1;32m   1190\u001b[0m \u001b[43m        \u001b[49m\u001b[43minputs\u001b[49m\u001b[43m,\u001b[49m\n\u001b[1;32m   1191\u001b[0m \u001b[43m        \u001b[49m\u001b[43mtop_schema\u001b[49m\u001b[38;5;241;43m=\u001b[39;49m\u001b[43mschema\u001b[49m\u001b[43m,\u001b[49m\n\u001b[1;32m   1192\u001b[0m \u001b[43m        \u001b[49m\u001b[43mpath\u001b[49m\u001b[38;5;241;43m=\u001b[39;49m\u001b[43mpath\u001b[49m\u001b[43m)\u001b[49m\n\u001b[1;32m   1194\u001b[0m outputs \u001b[38;5;241m=\u001b[39m state\u001b[38;5;241m.\u001b[39mget(\u001b[38;5;124m'\u001b[39m\u001b[38;5;124moutputs\u001b[39m\u001b[38;5;124m'\u001b[39m)\n\u001b[1;32m   1195\u001b[0m \u001b[38;5;28;01mif\u001b[39;00m \u001b[38;5;124m'\u001b[39m\u001b[38;5;124m_outputs\u001b[39m\u001b[38;5;124m'\u001b[39m \u001b[38;5;129;01mnot\u001b[39;00m \u001b[38;5;129;01min\u001b[39;00m state_schema:\n",
      "File \u001b[0;32m~/code/bigraph-schema/bigraph_schema/type_system.py:1136\u001b[0m, in \u001b[0;36mTypeSystem.infer_wires\u001b[0;34m(self, ports, state, wires, top_schema, path)\u001b[0m\n\u001b[1;32m   1131\u001b[0m \u001b[38;5;28;01melse\u001b[39;00m:\n\u001b[1;32m   1132\u001b[0m     peer \u001b[38;5;241m=\u001b[39m get_path(\n\u001b[1;32m   1133\u001b[0m         top_schema,\n\u001b[1;32m   1134\u001b[0m         path[:\u001b[38;5;241m-\u001b[39m\u001b[38;5;241m1\u001b[39m])\n\u001b[0;32m-> 1136\u001b[0m     destination \u001b[38;5;241m=\u001b[39m \u001b[43mestablish_path\u001b[49m\u001b[43m(\u001b[49m\n\u001b[1;32m   1137\u001b[0m \u001b[43m        \u001b[49m\u001b[43mpeer\u001b[49m\u001b[43m,\u001b[49m\n\u001b[1;32m   1138\u001b[0m \u001b[43m        \u001b[49m\u001b[43mport_wires\u001b[49m\u001b[43m[\u001b[49m\u001b[43m:\u001b[49m\u001b[38;5;241;43m-\u001b[39;49m\u001b[38;5;241;43m1\u001b[39;49m\u001b[43m]\u001b[49m\u001b[43m,\u001b[49m\n\u001b[1;32m   1139\u001b[0m \u001b[43m        \u001b[49m\u001b[43mtop\u001b[49m\u001b[38;5;241;43m=\u001b[39;49m\u001b[43mtop_schema\u001b[49m\u001b[43m,\u001b[49m\n\u001b[1;32m   1140\u001b[0m \u001b[43m        \u001b[49m\u001b[43mcursor\u001b[49m\u001b[38;5;241;43m=\u001b[39;49m\u001b[43mpath\u001b[49m\u001b[43m[\u001b[49m\u001b[43m:\u001b[49m\u001b[38;5;241;43m-\u001b[39;49m\u001b[38;5;241;43m1\u001b[39;49m\u001b[43m]\u001b[49m\u001b[43m)\u001b[49m\n\u001b[1;32m   1142\u001b[0m     \u001b[38;5;66;03m# TODO: validate the schema/state\u001b[39;00m\n\u001b[1;32m   1143\u001b[0m     destination_key \u001b[38;5;241m=\u001b[39m port_wires[\u001b[38;5;241m-\u001b[39m\u001b[38;5;241m1\u001b[39m]\n",
      "File \u001b[0;32m~/code/bigraph-schema/bigraph_schema/registry.py:218\u001b[0m, in \u001b[0;36mestablish_path\u001b[0;34m(tree, path, top, cursor)\u001b[0m\n\u001b[1;32m    216\u001b[0m \u001b[38;5;28;01mif\u001b[39;00m head \u001b[38;5;241m==\u001b[39m \u001b[38;5;124m'\u001b[39m\u001b[38;5;124m..\u001b[39m\u001b[38;5;124m'\u001b[39m:\n\u001b[1;32m    217\u001b[0m     \u001b[38;5;28;01mif\u001b[39;00m cursor \u001b[38;5;241m==\u001b[39m ():\n\u001b[0;32m--> 218\u001b[0m         \u001b[38;5;28;01mraise\u001b[39;00m \u001b[38;5;167;01mException\u001b[39;00m(\n\u001b[1;32m    219\u001b[0m             \u001b[38;5;124mf\u001b[39m\u001b[38;5;124m'\u001b[39m\u001b[38;5;124mtrying to travel above the top of the tree: \u001b[39m\u001b[38;5;132;01m{\u001b[39;00mpath\u001b[38;5;132;01m}\u001b[39;00m\u001b[38;5;124m'\u001b[39m)\n\u001b[1;32m    220\u001b[0m     \u001b[38;5;28;01melse\u001b[39;00m:\n\u001b[1;32m    221\u001b[0m         \u001b[38;5;28;01mreturn\u001b[39;00m establish_path(\n\u001b[1;32m    222\u001b[0m             top,\n\u001b[1;32m    223\u001b[0m             cursor[:\u001b[38;5;241m-\u001b[39m\u001b[38;5;241m1\u001b[39m])\n",
      "\u001b[0;31mException\u001b[0m: trying to travel above the top of the tree: ['..', 'molecules']"
     ]
    }
   ],
   "source": [
    "full_schema, full_state = core.complete(\n",
    "    {'edge': edge_schema},\n",
    "    {'edge': edge_state})"
   ]
  },
  {
   "cell_type": "code",
   "execution_count": null,
   "id": "4980f099-efba-4017-afd1-ebe3229fe0ff",
   "metadata": {},
   "outputs": [],
   "source": []
  }
 ],
 "metadata": {
  "kernelspec": {
   "display_name": "Python 3 (ipykernel)",
   "language": "python",
   "name": "python3"
  },
  "language_info": {
   "codemirror_mode": {
    "name": "ipython",
    "version": 3
   },
   "file_extension": ".py",
   "mimetype": "text/x-python",
   "name": "python",
   "nbconvert_exporter": "python",
   "pygments_lexer": "ipython3",
   "version": "3.10.9"
  }
 },
 "nbformat": 4,
 "nbformat_minor": 5
}
